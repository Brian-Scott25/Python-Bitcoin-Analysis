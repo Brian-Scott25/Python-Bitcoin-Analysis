{
 "cells": [
  {
   "cell_type": "markdown",
   "metadata": {},
   "source": [
    "# Clustering Analysis"
   ]
  },
  {
   "cell_type": "code",
   "execution_count": 2,
   "metadata": {},
   "outputs": [],
   "source": [
    "#import needed packages\n",
    "import os\n",
    "import pandas as pd\n",
    "import numpy as np"
   ]
  },
  {
   "cell_type": "code",
   "execution_count": 3,
   "metadata": {},
   "outputs": [
    {
     "data": {
      "text/html": [
       "<div>\n",
       "<style scoped>\n",
       "    .dataframe tbody tr th:only-of-type {\n",
       "        vertical-align: middle;\n",
       "    }\n",
       "\n",
       "    .dataframe tbody tr th {\n",
       "        vertical-align: top;\n",
       "    }\n",
       "\n",
       "    .dataframe thead th {\n",
       "        text-align: right;\n",
       "    }\n",
       "</style>\n",
       "<table border=\"1\" class=\"dataframe\">\n",
       "  <thead>\n",
       "    <tr style=\"text-align: right;\">\n",
       "      <th></th>\n",
       "      <th>Categories</th>\n",
       "      <th>close</th>\n",
       "      <th>PCTChange</th>\n",
       "      <th>EMA50</th>\n",
       "      <th>lagged EMA50</th>\n",
       "      <th>RSI</th>\n",
       "      <th>RSI-based MA</th>\n",
       "      <th>RSI-RSIMA</th>\n",
       "      <th>ATR</th>\n",
       "      <th>ADX</th>\n",
       "      <th>...</th>\n",
       "      <th>ASOPR</th>\n",
       "      <th>AccuTrend</th>\n",
       "      <th>NUPL</th>\n",
       "      <th>BTCINFLATION</th>\n",
       "      <th>Liveliness</th>\n",
       "      <th>NVT</th>\n",
       "      <th>CVDD</th>\n",
       "      <th>SP500</th>\n",
       "      <th>NASDAQ</th>\n",
       "      <th>POSNEG</th>\n",
       "    </tr>\n",
       "  </thead>\n",
       "  <tbody>\n",
       "    <tr>\n",
       "      <th>count</th>\n",
       "      <td>1888.000000</td>\n",
       "      <td>1887.000000</td>\n",
       "      <td>1887.000000</td>\n",
       "      <td>1887.000000</td>\n",
       "      <td>1886.000000</td>\n",
       "      <td>1887.000000</td>\n",
       "      <td>1887.000000</td>\n",
       "      <td>1887.000000</td>\n",
       "      <td>1887.000000</td>\n",
       "      <td>1887.000000</td>\n",
       "      <td>...</td>\n",
       "      <td>1828.000000</td>\n",
       "      <td>1887.000000</td>\n",
       "      <td>1887.000000</td>\n",
       "      <td>1887.000000</td>\n",
       "      <td>1887.000000</td>\n",
       "      <td>1887.000000</td>\n",
       "      <td>1887.000000</td>\n",
       "      <td>1303.000000</td>\n",
       "      <td>1304.000000</td>\n",
       "      <td>1888.000000</td>\n",
       "    </tr>\n",
       "    <tr>\n",
       "      <th>mean</th>\n",
       "      <td>3.524364</td>\n",
       "      <td>19596.560212</td>\n",
       "      <td>0.001628</td>\n",
       "      <td>19382.962591</td>\n",
       "      <td>19382.697683</td>\n",
       "      <td>51.630688</td>\n",
       "      <td>51.686798</td>\n",
       "      <td>-0.056110</td>\n",
       "      <td>1187.914947</td>\n",
       "      <td>29.659611</td>\n",
       "      <td>...</td>\n",
       "      <td>1.014833</td>\n",
       "      <td>0.389399</td>\n",
       "      <td>0.360373</td>\n",
       "      <td>0.029376</td>\n",
       "      <td>0.607387</td>\n",
       "      <td>27.657978</td>\n",
       "      <td>6087.551868</td>\n",
       "      <td>3372.621957</td>\n",
       "      <td>10156.471826</td>\n",
       "      <td>0.516419</td>\n",
       "    </tr>\n",
       "    <tr>\n",
       "      <th>std</th>\n",
       "      <td>0.853584</td>\n",
       "      <td>17027.908287</td>\n",
       "      <td>0.041154</td>\n",
       "      <td>16687.159043</td>\n",
       "      <td>16691.580395</td>\n",
       "      <td>13.915309</td>\n",
       "      <td>12.326356</td>\n",
       "      <td>8.335639</td>\n",
       "      <td>1124.047393</td>\n",
       "      <td>11.090460</td>\n",
       "      <td>...</td>\n",
       "      <td>0.052776</td>\n",
       "      <td>0.342478</td>\n",
       "      <td>0.246017</td>\n",
       "      <td>0.011689</td>\n",
       "      <td>0.010918</td>\n",
       "      <td>13.854925</td>\n",
       "      <td>4382.261193</td>\n",
       "      <td>692.601534</td>\n",
       "      <td>2915.937781</td>\n",
       "      <td>0.499863</td>\n",
       "    </tr>\n",
       "    <tr>\n",
       "      <th>min</th>\n",
       "      <td>1.000000</td>\n",
       "      <td>3183.000000</td>\n",
       "      <td>-0.388100</td>\n",
       "      <td>3468.602000</td>\n",
       "      <td>3468.602000</td>\n",
       "      <td>9.491250</td>\n",
       "      <td>16.531730</td>\n",
       "      <td>-27.502900</td>\n",
       "      <td>81.593410</td>\n",
       "      <td>8.965417</td>\n",
       "      <td>...</td>\n",
       "      <td>0.726406</td>\n",
       "      <td>0.000000</td>\n",
       "      <td>-0.431480</td>\n",
       "      <td>0.007084</td>\n",
       "      <td>0.562197</td>\n",
       "      <td>2.146851</td>\n",
       "      <td>708.413700</td>\n",
       "      <td>0.000000</td>\n",
       "      <td>0.000000</td>\n",
       "      <td>0.000000</td>\n",
       "    </tr>\n",
       "    <tr>\n",
       "      <th>25%</th>\n",
       "      <td>3.000000</td>\n",
       "      <td>7284.280000</td>\n",
       "      <td>-0.016500</td>\n",
       "      <td>7299.658500</td>\n",
       "      <td>7299.448750</td>\n",
       "      <td>41.847190</td>\n",
       "      <td>43.001340</td>\n",
       "      <td>-5.226415</td>\n",
       "      <td>351.789500</td>\n",
       "      <td>21.052355</td>\n",
       "      <td>...</td>\n",
       "      <td>0.987671</td>\n",
       "      <td>0.084482</td>\n",
       "      <td>0.228390</td>\n",
       "      <td>0.018022</td>\n",
       "      <td>0.603012</td>\n",
       "      <td>17.923195</td>\n",
       "      <td>2899.243500</td>\n",
       "      <td>2787.855000</td>\n",
       "      <td>7629.574250</td>\n",
       "      <td>0.000000</td>\n",
       "    </tr>\n",
       "    <tr>\n",
       "      <th>50%</th>\n",
       "      <td>4.000000</td>\n",
       "      <td>10343.230000</td>\n",
       "      <td>0.001100</td>\n",
       "      <td>10286.250000</td>\n",
       "      <td>10284.015000</td>\n",
       "      <td>50.323500</td>\n",
       "      <td>49.883920</td>\n",
       "      <td>0.133769</td>\n",
       "      <td>583.789400</td>\n",
       "      <td>27.249570</td>\n",
       "      <td>...</td>\n",
       "      <td>1.006852</td>\n",
       "      <td>0.281160</td>\n",
       "      <td>0.402736</td>\n",
       "      <td>0.032114</td>\n",
       "      <td>0.608964</td>\n",
       "      <td>26.998850</td>\n",
       "      <td>4080.633000</td>\n",
       "      <td>3122.870000</td>\n",
       "      <td>9106.754000</td>\n",
       "      <td>1.000000</td>\n",
       "    </tr>\n",
       "    <tr>\n",
       "      <th>75%</th>\n",
       "      <td>4.000000</td>\n",
       "      <td>32636.255000</td>\n",
       "      <td>0.019650</td>\n",
       "      <td>34168.700000</td>\n",
       "      <td>34215.915000</td>\n",
       "      <td>60.622940</td>\n",
       "      <td>60.501555</td>\n",
       "      <td>5.510901</td>\n",
       "      <td>1923.285000</td>\n",
       "      <td>37.182145</td>\n",
       "      <td>...</td>\n",
       "      <td>1.034633</td>\n",
       "      <td>0.684187</td>\n",
       "      <td>0.532260</td>\n",
       "      <td>0.039919</td>\n",
       "      <td>0.614559</td>\n",
       "      <td>34.418965</td>\n",
       "      <td>9729.394000</td>\n",
       "      <td>3973.320000</td>\n",
       "      <td>12904.602500</td>\n",
       "      <td>1.000000</td>\n",
       "    </tr>\n",
       "    <tr>\n",
       "      <th>max</th>\n",
       "      <td>6.000000</td>\n",
       "      <td>67554.840000</td>\n",
       "      <td>0.234200</td>\n",
       "      <td>59135.220000</td>\n",
       "      <td>59135.220000</td>\n",
       "      <td>94.550250</td>\n",
       "      <td>83.393330</td>\n",
       "      <td>26.600580</td>\n",
       "      <td>5304.350000</td>\n",
       "      <td>69.368920</td>\n",
       "      <td>...</td>\n",
       "      <td>1.397850</td>\n",
       "      <td>1.000000</td>\n",
       "      <td>0.793382</td>\n",
       "      <td>0.055817</td>\n",
       "      <td>0.623179</td>\n",
       "      <td>91.091600</td>\n",
       "      <td>14690.940000</td>\n",
       "      <td>4796.560000</td>\n",
       "      <td>16057.440000</td>\n",
       "      <td>1.000000</td>\n",
       "    </tr>\n",
       "  </tbody>\n",
       "</table>\n",
       "<p>8 rows × 32 columns</p>\n",
       "</div>"
      ],
      "text/plain": [
       "        Categories         close    PCTChange         EMA50  lagged EMA50  \\\n",
       "count  1888.000000   1887.000000  1887.000000   1887.000000   1886.000000   \n",
       "mean      3.524364  19596.560212     0.001628  19382.962591  19382.697683   \n",
       "std       0.853584  17027.908287     0.041154  16687.159043  16691.580395   \n",
       "min       1.000000   3183.000000    -0.388100   3468.602000   3468.602000   \n",
       "25%       3.000000   7284.280000    -0.016500   7299.658500   7299.448750   \n",
       "50%       4.000000  10343.230000     0.001100  10286.250000  10284.015000   \n",
       "75%       4.000000  32636.255000     0.019650  34168.700000  34215.915000   \n",
       "max       6.000000  67554.840000     0.234200  59135.220000  59135.220000   \n",
       "\n",
       "               RSI  RSI-based MA    RSI-RSIMA          ATR          ADX  ...  \\\n",
       "count  1887.000000   1887.000000  1887.000000  1887.000000  1887.000000  ...   \n",
       "mean     51.630688     51.686798    -0.056110  1187.914947    29.659611  ...   \n",
       "std      13.915309     12.326356     8.335639  1124.047393    11.090460  ...   \n",
       "min       9.491250     16.531730   -27.502900    81.593410     8.965417  ...   \n",
       "25%      41.847190     43.001340    -5.226415   351.789500    21.052355  ...   \n",
       "50%      50.323500     49.883920     0.133769   583.789400    27.249570  ...   \n",
       "75%      60.622940     60.501555     5.510901  1923.285000    37.182145  ...   \n",
       "max      94.550250     83.393330    26.600580  5304.350000    69.368920  ...   \n",
       "\n",
       "             ASOPR    AccuTrend         NUPL  BTCINFLATION   Liveliness  \\\n",
       "count  1828.000000  1887.000000  1887.000000   1887.000000  1887.000000   \n",
       "mean      1.014833     0.389399     0.360373      0.029376     0.607387   \n",
       "std       0.052776     0.342478     0.246017      0.011689     0.010918   \n",
       "min       0.726406     0.000000    -0.431480      0.007084     0.562197   \n",
       "25%       0.987671     0.084482     0.228390      0.018022     0.603012   \n",
       "50%       1.006852     0.281160     0.402736      0.032114     0.608964   \n",
       "75%       1.034633     0.684187     0.532260      0.039919     0.614559   \n",
       "max       1.397850     1.000000     0.793382      0.055817     0.623179   \n",
       "\n",
       "               NVT          CVDD        SP500        NASDAQ       POSNEG  \n",
       "count  1887.000000   1887.000000  1303.000000   1304.000000  1888.000000  \n",
       "mean     27.657978   6087.551868  3372.621957  10156.471826     0.516419  \n",
       "std      13.854925   4382.261193   692.601534   2915.937781     0.499863  \n",
       "min       2.146851    708.413700     0.000000      0.000000     0.000000  \n",
       "25%      17.923195   2899.243500  2787.855000   7629.574250     0.000000  \n",
       "50%      26.998850   4080.633000  3122.870000   9106.754000     1.000000  \n",
       "75%      34.418965   9729.394000  3973.320000  12904.602500     1.000000  \n",
       "max      91.091600  14690.940000  4796.560000  16057.440000     1.000000  \n",
       "\n",
       "[8 rows x 32 columns]"
      ]
     },
     "execution_count": 3,
     "metadata": {},
     "output_type": "execute_result"
    }
   ],
   "source": [
    "#Here I import the database and change pctchange into type float instead of object\n",
    "dataSub = pd.read_csv('PANEL_MIS776_PROJECT_DB.xlsx - TheData.csv')\n",
    "\n",
    "#rename %change to PCTChange\n",
    "dataSub.columns.values[2] = \"PCTChange\"\n",
    "\n",
    "# the reason the db was reading PCtchange as on object is because the column had % signs within the rows\n",
    "#below I remove the percentage sign\n",
    "dataSub['PCTChange'] = dataSub['PCTChange'].str.replace('%',' ')\n",
    "#change pct change to type float\n",
    "dataSub['PCTChange'] = dataSub.PCTChange.astype(float)\n",
    "# divide by 100 to return PCt change to decimal form\n",
    "dataSub['PCTChange'] = dataSub['PCTChange'].div(100)\n",
    "dataSub.describe()"
   ]
  },
  {
   "cell_type": "code",
   "execution_count": 4,
   "metadata": {},
   "outputs": [],
   "source": [
    "#Features to incorporate for clustering, dataset - yvar(POSNEG) - ASOPR - NASDAQ - SP500 - lagged ema500 - categories\n",
    "    #Asopr NASDAQ and sp500 were removed because they have too many missing values\n",
    "        #NA's are handleable, I could just omit them but that would take away a large percentage of my data. \n",
    "            #Interpolation can be used as well, and that would be my next step in this project\n",
    "    #Lagged ema 50 was removed because our original ema50 metric is now lagged, so the lagged ema50 is double lagged\n",
    "    #Categories was removed because it is a non-lagged variable in the database that relates heavily to POSNEG\n",
    "data = dataSub.drop(['POSNEG','Categories','lagged EMA50','ASOPR','SP500','NASDAQ'], axis=1)\n",
    "data = data.dropna()"
   ]
  },
  {
   "cell_type": "markdown",
   "metadata": {},
   "source": [
    "## Standardization"
   ]
  },
  {
   "cell_type": "code",
   "execution_count": 5,
   "metadata": {},
   "outputs": [],
   "source": [
    "# Features to be standardized\n",
    "    #features that are already in index or percentage form do not need to be standardized\n",
    "        #Reasoning: index and % features are consistent throughout all time intervals\n",
    "            # Example: RSI (an index) will be within 0 and 100 in any period so there are no standardization issues\n",
    "                # closing price: trends upward over time (mostly) and can be associated with many different RSI levels\n",
    "                     # By standardizing metrics like closing price we can remove the trend aspect of the metric\n",
    "\n",
    "standFeatures = data.drop(['AccuTrend','AVGFees','ADX','RSI','RSI-based MA','RSI-RSIMA'], axis=1)\n",
    "numerical_features = list(standFeatures)"
   ]
  },
  {
   "cell_type": "code",
   "execution_count": 6,
   "metadata": {},
   "outputs": [],
   "source": [
    "# standardize the features that are not in index or percentage form\n",
    "\n",
    "# 1. Import the class you will use\n",
    "from sklearn.preprocessing import StandardScaler\n",
    "# 2. Create an instance of the class\n",
    "scaler = StandardScaler()\n",
    "# 3. Use the fit method of the instance\n",
    "scaler.fit(data[numerical_features])\n",
    "# 4. Use the transform method to perform the transformation\n",
    "data.loc[:, numerical_features] = scaler.transform(data[numerical_features])"
   ]
  },
  {
   "cell_type": "code",
   "execution_count": 7,
   "metadata": {},
   "outputs": [
    {
     "data": {
      "text/html": [
       "<div>\n",
       "<style scoped>\n",
       "    .dataframe tbody tr th:only-of-type {\n",
       "        vertical-align: middle;\n",
       "    }\n",
       "\n",
       "    .dataframe tbody tr th {\n",
       "        vertical-align: top;\n",
       "    }\n",
       "\n",
       "    .dataframe thead th {\n",
       "        text-align: right;\n",
       "    }\n",
       "</style>\n",
       "<table border=\"1\" class=\"dataframe\">\n",
       "  <thead>\n",
       "    <tr style=\"text-align: right;\">\n",
       "      <th></th>\n",
       "      <th>close</th>\n",
       "      <th>PCTChange</th>\n",
       "      <th>EMA50</th>\n",
       "      <th>RSI</th>\n",
       "      <th>RSI-based MA</th>\n",
       "      <th>RSI-RSIMA</th>\n",
       "      <th>ATR</th>\n",
       "      <th>ADX</th>\n",
       "      <th>MACD</th>\n",
       "      <th>RP</th>\n",
       "      <th>...</th>\n",
       "      <th>AA</th>\n",
       "      <th>AVGFees</th>\n",
       "      <th>Puell</th>\n",
       "      <th>INVCAP</th>\n",
       "      <th>AccuTrend</th>\n",
       "      <th>NUPL</th>\n",
       "      <th>BTCINFLATION</th>\n",
       "      <th>Liveliness</th>\n",
       "      <th>NVT</th>\n",
       "      <th>CVDD</th>\n",
       "    </tr>\n",
       "  </thead>\n",
       "  <tbody>\n",
       "    <tr>\n",
       "      <th>1</th>\n",
       "      <td>-0.960217</td>\n",
       "      <td>-3.853080</td>\n",
       "      <td>-0.928358</td>\n",
       "      <td>27.24211</td>\n",
       "      <td>54.74499</td>\n",
       "      <td>-27.50290</td>\n",
       "      <td>-0.778584</td>\n",
       "      <td>20.82422</td>\n",
       "      <td>-0.078634</td>\n",
       "      <td>-1.150489</td>\n",
       "      <td>...</td>\n",
       "      <td>-0.345856</td>\n",
       "      <td>0.000574</td>\n",
       "      <td>1.406163</td>\n",
       "      <td>-1.101545</td>\n",
       "      <td>0.414071</td>\n",
       "      <td>0.561820</td>\n",
       "      <td>1.686607</td>\n",
       "      <td>-3.937014</td>\n",
       "      <td>-1.526481</td>\n",
       "      <td>-1.215735</td>\n",
       "    </tr>\n",
       "    <tr>\n",
       "      <th>2</th>\n",
       "      <td>-0.396899</td>\n",
       "      <td>-2.917326</td>\n",
       "      <td>-0.384883</td>\n",
       "      <td>41.98441</td>\n",
       "      <td>55.34097</td>\n",
       "      <td>-13.35660</td>\n",
       "      <td>0.708880</td>\n",
       "      <td>39.10379</td>\n",
       "      <td>0.163959</td>\n",
       "      <td>-0.729508</td>\n",
       "      <td>...</td>\n",
       "      <td>0.956999</td>\n",
       "      <td>0.002262</td>\n",
       "      <td>2.223611</td>\n",
       "      <td>-0.716980</td>\n",
       "      <td>0.809552</td>\n",
       "      <td>1.024524</td>\n",
       "      <td>0.977185</td>\n",
       "      <td>-0.439023</td>\n",
       "      <td>-1.144019</td>\n",
       "      <td>-0.987260</td>\n",
       "    </tr>\n",
       "    <tr>\n",
       "      <th>3</th>\n",
       "      <td>-0.369403</td>\n",
       "      <td>-2.601357</td>\n",
       "      <td>-0.337741</td>\n",
       "      <td>42.88754</td>\n",
       "      <td>50.44409</td>\n",
       "      <td>-7.55655</td>\n",
       "      <td>0.484788</td>\n",
       "      <td>24.43130</td>\n",
       "      <td>-0.004643</td>\n",
       "      <td>-0.681355</td>\n",
       "      <td>...</td>\n",
       "      <td>2.144939</td>\n",
       "      <td>0.002065</td>\n",
       "      <td>2.945244</td>\n",
       "      <td>-0.673778</td>\n",
       "      <td>0.490867</td>\n",
       "      <td>0.958361</td>\n",
       "      <td>2.091637</td>\n",
       "      <td>-0.041237</td>\n",
       "      <td>-1.027067</td>\n",
       "      <td>-0.942247</td>\n",
       "    </tr>\n",
       "    <tr>\n",
       "      <th>4</th>\n",
       "      <td>-0.471501</td>\n",
       "      <td>-3.651346</td>\n",
       "      <td>-0.342361</td>\n",
       "      <td>36.64028</td>\n",
       "      <td>49.32975</td>\n",
       "      <td>-12.68950</td>\n",
       "      <td>0.451741</td>\n",
       "      <td>26.25201</td>\n",
       "      <td>-0.398609</td>\n",
       "      <td>-0.677275</td>\n",
       "      <td>...</td>\n",
       "      <td>0.901015</td>\n",
       "      <td>0.001998</td>\n",
       "      <td>1.621387</td>\n",
       "      <td>-0.670237</td>\n",
       "      <td>0.341794</td>\n",
       "      <td>0.720322</td>\n",
       "      <td>1.260440</td>\n",
       "      <td>0.005394</td>\n",
       "      <td>-1.401530</td>\n",
       "      <td>-0.932736</td>\n",
       "    </tr>\n",
       "    <tr>\n",
       "      <th>5</th>\n",
       "      <td>-0.564021</td>\n",
       "      <td>-2.504136</td>\n",
       "      <td>-0.405829</td>\n",
       "      <td>35.16951</td>\n",
       "      <td>39.18449</td>\n",
       "      <td>-4.01497</td>\n",
       "      <td>0.169113</td>\n",
       "      <td>38.74495</td>\n",
       "      <td>-0.797305</td>\n",
       "      <td>-0.680618</td>\n",
       "      <td>...</td>\n",
       "      <td>0.014682</td>\n",
       "      <td>0.000678</td>\n",
       "      <td>1.136904</td>\n",
       "      <td>-0.674486</td>\n",
       "      <td>0.011230</td>\n",
       "      <td>0.417459</td>\n",
       "      <td>1.447680</td>\n",
       "      <td>0.054957</td>\n",
       "      <td>-0.505440</td>\n",
       "      <td>-0.913500</td>\n",
       "    </tr>\n",
       "  </tbody>\n",
       "</table>\n",
       "<p>5 rows × 26 columns</p>\n",
       "</div>"
      ],
      "text/plain": [
       "      close  PCTChange     EMA50       RSI  RSI-based MA  RSI-RSIMA       ATR  \\\n",
       "1 -0.960217  -3.853080 -0.928358  27.24211      54.74499  -27.50290 -0.778584   \n",
       "2 -0.396899  -2.917326 -0.384883  41.98441      55.34097  -13.35660  0.708880   \n",
       "3 -0.369403  -2.601357 -0.337741  42.88754      50.44409   -7.55655  0.484788   \n",
       "4 -0.471501  -3.651346 -0.342361  36.64028      49.32975  -12.68950  0.451741   \n",
       "5 -0.564021  -2.504136 -0.405829  35.16951      39.18449   -4.01497  0.169113   \n",
       "\n",
       "        ADX      MACD        RP  ...        AA   AVGFees     Puell    INVCAP  \\\n",
       "1  20.82422 -0.078634 -1.150489  ... -0.345856  0.000574  1.406163 -1.101545   \n",
       "2  39.10379  0.163959 -0.729508  ...  0.956999  0.002262  2.223611 -0.716980   \n",
       "3  24.43130 -0.004643 -0.681355  ...  2.144939  0.002065  2.945244 -0.673778   \n",
       "4  26.25201 -0.398609 -0.677275  ...  0.901015  0.001998  1.621387 -0.670237   \n",
       "5  38.74495 -0.797305 -0.680618  ...  0.014682  0.000678  1.136904 -0.674486   \n",
       "\n",
       "   AccuTrend      NUPL  BTCINFLATION  Liveliness       NVT      CVDD  \n",
       "1   0.414071  0.561820      1.686607   -3.937014 -1.526481 -1.215735  \n",
       "2   0.809552  1.024524      0.977185   -0.439023 -1.144019 -0.987260  \n",
       "3   0.490867  0.958361      2.091637   -0.041237 -1.027067 -0.942247  \n",
       "4   0.341794  0.720322      1.260440    0.005394 -1.401530 -0.932736  \n",
       "5   0.011230  0.417459      1.447680    0.054957 -0.505440 -0.913500  \n",
       "\n",
       "[5 rows x 26 columns]"
      ]
     },
     "execution_count": 7,
     "metadata": {},
     "output_type": "execute_result"
    }
   ],
   "source": [
    "data.head()"
   ]
  },
  {
   "cell_type": "markdown",
   "metadata": {},
   "source": [
    "## K means clustering"
   ]
  },
  {
   "cell_type": "code",
   "execution_count": 8,
   "metadata": {},
   "outputs": [],
   "source": [
    "from sklearn.cluster import KMeans"
   ]
  },
  {
   "cell_type": "code",
   "execution_count": 9,
   "metadata": {},
   "outputs": [
    {
     "name": "stdout",
     "output_type": "stream",
     "text": [
      "[[-4.63525057e-02 -1.22573106e-01  5.42880359e-02  4.34859342e+01\n",
      "   4.44939338e+01 -1.00799951e+00  1.48892609e-02  2.72057797e+01\n",
      "  -4.50031162e-01  1.25707536e-01 -1.02351524e-01 -1.26836492e-01\n",
      "  -3.14190990e-01 -4.20437200e-01 -2.45884102e-01  1.18475659e-01\n",
      "  -1.91239325e-01  1.84545477e-04 -2.63457729e-01  1.24065000e-01\n",
      "   3.33524645e-01 -2.88001563e-01 -1.48014184e-02  1.03409239e-01\n",
      "   1.05996124e-02  1.33165948e-01]\n",
      " [ 8.18984888e-02  2.16569785e-01 -9.59194769e-02  6.60213448e+01\n",
      "   6.43955966e+01  1.62574794e+00 -2.63072718e-02  3.39951935e+01\n",
      "   7.95143036e-01 -2.22107890e-01  1.80841035e-01  2.24102600e-01\n",
      "   5.55132174e-01  7.42854584e-01  4.34443318e-01 -2.09330159e-01\n",
      "   3.37893529e-01  3.67503372e-04  4.65493495e-01 -2.19205756e-01\n",
      "   4.88120331e-01  5.08859067e-01  2.61520662e-02 -1.82709872e-01\n",
      "  -1.87280541e-02 -2.35285876e-01]]\n"
     ]
    }
   ],
   "source": [
    "#Center values for 2 clusters\n",
    "kmeans = KMeans(n_clusters=2).fit(data)\n",
    "centroids = (kmeans.cluster_centers_)\n",
    "print(centroids)"
   ]
  },
  {
   "cell_type": "code",
   "execution_count": 10,
   "metadata": {},
   "outputs": [
    {
     "name": "stdout",
     "output_type": "stream",
     "text": [
      "0.36206727929847526\n"
     ]
    }
   ],
   "source": [
    "# Calculate silhouette_score\n",
    "from sklearn.metrics import silhouette_score\n",
    "\n",
    "print(silhouette_score(data, kmeans.labels_))"
   ]
  },
  {
   "cell_type": "code",
   "execution_count": 11,
   "metadata": {},
   "outputs": [
    {
     "name": "stdout",
     "output_type": "stream",
     "text": [
      "[[-1.78260143e-02 -1.97266105e-01  2.06605733e-01  3.61838848e+01\n",
      "   3.70957583e+01 -9.11872933e-01  2.31967314e-01  3.73523923e+01\n",
      "  -1.02493199e+00  2.90163435e-01 -6.77021817e-02 -1.37552534e-01\n",
      "  -4.84825483e-01 -7.32504825e-01 -3.17576949e-01  2.07412031e-01\n",
      "  -3.00583691e-01  1.78078125e-04 -4.06901737e-01  2.89634649e-01\n",
      "   4.31232362e-01 -4.86771103e-01 -4.85568644e-02  3.16029812e-01\n",
      "  -1.31193237e-01  2.60190403e-01]\n",
      " [ 1.85845135e-02  2.48749709e-01 -1.85575405e-01  6.88903658e+01\n",
      "   6.76781385e+01  1.21222717e+00 -6.36840660e-02  3.87177933e+01\n",
      "   9.30748547e-01 -3.25598658e-01  2.99394231e-01  3.27186238e-01\n",
      "   7.13143483e-01  8.86968409e-01  6.26689001e-01 -3.00096686e-01\n",
      "   4.12460543e-01  4.33203609e-04  6.16134063e-01 -3.21891897e-01\n",
      "   5.70864666e-01  6.64406428e-01  7.16247451e-02 -3.18078454e-01\n",
      "  -6.99562964e-02 -3.34701284e-01]\n",
      " [-7.92615140e-04 -2.97374981e-02 -5.32371100e-03  5.03815756e+01\n",
      "   5.06587647e+01 -2.77189293e-01 -7.63700015e-02  2.16918740e+01\n",
      "   2.14741365e-02  2.41361045e-02 -1.14343084e-01 -9.55384123e-02\n",
      "  -1.22612360e-01 -9.25619412e-02 -1.57950461e-01  5.00257744e-02\n",
      "  -6.15779157e-02  1.95451136e-04 -1.11474344e-01  2.25772323e-02\n",
      "   2.81741639e-01 -9.79979063e-02 -1.23778716e-02  8.50578112e-03\n",
      "   9.47561836e-02  4.24369877e-02]]\n"
     ]
    }
   ],
   "source": [
    "#Center values for 3 clusters\n",
    "kmeans = KMeans(n_clusters=3).fit(data)\n",
    "centroids = (kmeans.cluster_centers_)\n",
    "print(centroids)"
   ]
  },
  {
   "cell_type": "code",
   "execution_count": 12,
   "metadata": {},
   "outputs": [
    {
     "name": "stdout",
     "output_type": "stream",
     "text": [
      "0.33135371613803183\n"
     ]
    }
   ],
   "source": [
    "# Calculate silhouette_score\n",
    "from sklearn.metrics import silhouette_score\n",
    "\n",
    "print(silhouette_score(data, kmeans.labels_))\n",
    "\n",
    "#Silhouette score lower for 3 clusters. "
   ]
  },
  {
   "cell_type": "code",
   "execution_count": 12,
   "metadata": {},
   "outputs": [
    {
     "name": "stdout",
     "output_type": "stream",
     "text": [
      "[[-4.63525057e-02 -1.22573106e-01  5.42880359e-02  4.34859342e+01\n",
      "   4.44939338e+01 -1.00799951e+00  1.48892609e-02  2.72057797e+01\n",
      "  -4.50031162e-01  1.25707536e-01 -1.02351524e-01 -1.26836492e-01\n",
      "  -3.14190990e-01 -4.20437200e-01 -2.45884102e-01  1.18475659e-01\n",
      "  -1.91239325e-01  1.84545477e-04 -2.63457729e-01  1.24065000e-01\n",
      "   3.33524645e-01 -2.88001563e-01 -1.48014184e-02  1.03409239e-01\n",
      "   1.05996124e-02  1.33165948e-01]\n",
      " [ 8.18984888e-02  2.16569785e-01 -9.59194769e-02  6.60213448e+01\n",
      "   6.43955966e+01  1.62574794e+00 -2.63072718e-02  3.39951935e+01\n",
      "   7.95143036e-01 -2.22107890e-01  1.80841035e-01  2.24102600e-01\n",
      "   5.55132174e-01  7.42854584e-01  4.34443318e-01 -2.09330159e-01\n",
      "   3.37893529e-01  3.67503372e-04  4.65493495e-01 -2.19205756e-01\n",
      "   4.88120331e-01  5.08859067e-01  2.61520662e-02 -1.82709872e-01\n",
      "  -1.87280541e-02 -2.35285876e-01]]\n"
     ]
    }
   ],
   "source": [
    "# returning to 2 cluster version \n",
    "#Center values for 2 clusters\n",
    "kmeans = KMeans(n_clusters=2).fit(data)\n",
    "centroids = (kmeans.cluster_centers_)\n",
    "print(centroids)"
   ]
  },
  {
   "cell_type": "code",
   "execution_count": 13,
   "metadata": {},
   "outputs": [],
   "source": [
    "#Convert labels to dataframe\n",
    "labels = (kmeans.labels_)\n",
    "df_labels = pd.DataFrame(labels)\n",
    "df_labels.rename(columns={0:'Cluster'}, inplace=True)"
   ]
  },
  {
   "cell_type": "code",
   "execution_count": 14,
   "metadata": {},
   "outputs": [
    {
     "data": {
      "text/html": [
       "<div>\n",
       "<style scoped>\n",
       "    .dataframe tbody tr th:only-of-type {\n",
       "        vertical-align: middle;\n",
       "    }\n",
       "\n",
       "    .dataframe tbody tr th {\n",
       "        vertical-align: top;\n",
       "    }\n",
       "\n",
       "    .dataframe thead th {\n",
       "        text-align: right;\n",
       "    }\n",
       "</style>\n",
       "<table border=\"1\" class=\"dataframe\">\n",
       "  <thead>\n",
       "    <tr style=\"text-align: right;\">\n",
       "      <th></th>\n",
       "      <th>Cluster</th>\n",
       "    </tr>\n",
       "  </thead>\n",
       "  <tbody>\n",
       "    <tr>\n",
       "      <th>0</th>\n",
       "      <td>2</td>\n",
       "    </tr>\n",
       "    <tr>\n",
       "      <th>1</th>\n",
       "      <td>0</td>\n",
       "    </tr>\n",
       "    <tr>\n",
       "      <th>2</th>\n",
       "      <td>2</td>\n",
       "    </tr>\n",
       "    <tr>\n",
       "      <th>3</th>\n",
       "      <td>2</td>\n",
       "    </tr>\n",
       "    <tr>\n",
       "      <th>4</th>\n",
       "      <td>0</td>\n",
       "    </tr>\n",
       "  </tbody>\n",
       "</table>\n",
       "</div>"
      ],
      "text/plain": [
       "   Cluster\n",
       "0        2\n",
       "1        0\n",
       "2        2\n",
       "3        2\n",
       "4        0"
      ]
     },
     "execution_count": 14,
     "metadata": {},
     "output_type": "execute_result"
    }
   ],
   "source": [
    "df_labels.head()"
   ]
  },
  {
   "cell_type": "code",
   "execution_count": 15,
   "metadata": {},
   "outputs": [
    {
     "data": {
      "text/plain": [
       "['close',\n",
       " 'PCTChange',\n",
       " 'EMA50',\n",
       " 'RSI',\n",
       " 'RSI-based MA',\n",
       " 'RSI-RSIMA',\n",
       " 'ATR',\n",
       " 'ADX',\n",
       " 'MACD',\n",
       " 'RP',\n",
       " 'RHODL',\n",
       " 'RR',\n",
       " 'MVRV-Z',\n",
       " 'SupplyP',\n",
       " 'MinerFeeRev%',\n",
       " 'Thermocap',\n",
       " 'AA',\n",
       " 'AVGFees',\n",
       " 'Puell',\n",
       " 'INVCAP',\n",
       " 'AccuTrend',\n",
       " 'NUPL',\n",
       " 'BTCINFLATION',\n",
       " 'Liveliness',\n",
       " 'NVT',\n",
       " 'CVDD']"
      ]
     },
     "execution_count": 15,
     "metadata": {},
     "output_type": "execute_result"
    }
   ],
   "source": [
    "list(data.columns)"
   ]
  },
  {
   "cell_type": "code",
   "execution_count": 16,
   "metadata": {},
   "outputs": [],
   "source": [
    "dY = dataSub.drop(['Categories','lagged EMA50','ASOPR','SP500','NASDAQ', 'PCTChange'], axis=1)\n"
   ]
  },
  {
   "cell_type": "code",
   "execution_count": 17,
   "metadata": {},
   "outputs": [],
   "source": [
    "dY = dY.dropna()"
   ]
  },
  {
   "cell_type": "code",
   "execution_count": 18,
   "metadata": {},
   "outputs": [],
   "source": [
    "BTC_Clust = pd.concat([dY, df_labels], axis=1)"
   ]
  },
  {
   "cell_type": "code",
   "execution_count": 19,
   "metadata": {},
   "outputs": [],
   "source": [
    "#Seperate into 2 data sets\n",
    "dat_C0 = BTC_Clust.loc[BTC_Clust['Cluster']==0]\n",
    "dat_C1 = BTC_Clust.loc[BTC_Clust['Cluster']==1]"
   ]
  },
  {
   "cell_type": "code",
   "execution_count": 20,
   "metadata": {},
   "outputs": [
    {
     "name": "stderr",
     "output_type": "stream",
     "text": [
      "C:\\Users\\13094\\anaconda3\\lib\\site-packages\\pandas\\core\\frame.py:3990: SettingWithCopyWarning: \n",
      "A value is trying to be set on a copy of a slice from a DataFrame\n",
      "\n",
      "See the caveats in the documentation: https://pandas.pydata.org/pandas-docs/stable/user_guide/indexing.html#returning-a-view-versus-a-copy\n",
      "  return super().drop(\n"
     ]
    }
   ],
   "source": [
    "#Drop Cluster variable from each data set\n",
    "dat_C0.drop(['Cluster'],inplace=True, axis = 1)\n",
    "dat_C1.drop(['Cluster'],inplace=True, axis = 1)"
   ]
  },
  {
   "cell_type": "markdown",
   "metadata": {},
   "source": [
    "## Testing Relevence of the Clusters"
   ]
  },
  {
   "cell_type": "code",
   "execution_count": 21,
   "metadata": {},
   "outputs": [
    {
     "data": {
      "text/plain": [
       "DecisionTreeClassifier(max_depth=3)"
      ]
     },
     "execution_count": 21,
     "metadata": {},
     "output_type": "execute_result"
    }
   ],
   "source": [
    "# Decision tree for full dataframe\n",
    "from sklearn.tree import DecisionTreeClassifier\n",
    "class_tree = DecisionTreeClassifier(max_depth=3)\n",
    "class_tree.fit(dY.drop(['POSNEG'], axis=1), dY['POSNEG'])"
   ]
  },
  {
   "cell_type": "code",
   "execution_count": 22,
   "metadata": {},
   "outputs": [
    {
     "data": {
      "text/plain": [
       "array([[665, 247],\n",
       "       [419, 556]], dtype=int64)"
      ]
     },
     "execution_count": 22,
     "metadata": {},
     "output_type": "execute_result"
    }
   ],
   "source": [
    "from sklearn.metrics import confusion_matrix\n",
    "y_train_pred = class_tree.predict(dY.drop(['POSNEG'], axis=1))\n",
    "confusion_matrix(dY['POSNEG'],y_train_pred)"
   ]
  },
  {
   "cell_type": "code",
   "execution_count": 23,
   "metadata": {},
   "outputs": [
    {
     "data": {
      "text/plain": [
       "0.647"
      ]
     },
     "execution_count": 23,
     "metadata": {},
     "output_type": "execute_result"
    }
   ],
   "source": [
    "from sklearn.metrics import accuracy_score\n",
    "accuracy = accuracy_score(y_true=dY['POSNEG'], y_pred=y_train_pred)\n",
    "accuracy.round(3)"
   ]
  },
  {
   "cell_type": "code",
   "execution_count": 25,
   "metadata": {},
   "outputs": [
    {
     "data": {
      "text/plain": [
       "array([0.613, 0.692])"
      ]
     },
     "execution_count": 25,
     "metadata": {},
     "output_type": "execute_result"
    }
   ],
   "source": [
    "from sklearn.metrics import precision_score\n",
    "precision = precision_score(y_true=dY['POSNEG'], y_pred=y_train_pred, average = None)\n",
    "precision.round(3)"
   ]
  },
  {
   "cell_type": "code",
   "execution_count": 26,
   "metadata": {},
   "outputs": [
    {
     "data": {
      "text/plain": [
       "array([0.729, 0.57 ])"
      ]
     },
     "execution_count": 26,
     "metadata": {},
     "output_type": "execute_result"
    }
   ],
   "source": [
    "from sklearn.metrics import recall_score\n",
    "recall = recall_score(y_true=dY['POSNEG'], y_pred=y_train_pred, average = None)\n",
    "recall.round(3)"
   ]
  },
  {
   "cell_type": "code",
   "execution_count": 27,
   "metadata": {},
   "outputs": [
    {
     "data": {
      "text/plain": [
       "0.625421822272216"
      ]
     },
     "execution_count": 27,
     "metadata": {},
     "output_type": "execute_result"
    }
   ],
   "source": [
    "from sklearn.metrics import f1_score\n",
    "f1_score(dY['POSNEG'], y_train_pred)"
   ]
  },
  {
   "cell_type": "code",
   "execution_count": 28,
   "metadata": {},
   "outputs": [
    {
     "data": {
      "text/plain": [
       "DecisionTreeClassifier(max_depth=3)"
      ]
     },
     "execution_count": 28,
     "metadata": {},
     "output_type": "execute_result"
    }
   ],
   "source": [
    "# Decion Tree for cluster 1\n",
    "dat_C0 = dat_C0.dropna()\n",
    "from sklearn.tree import DecisionTreeClassifier\n",
    "class_tree = DecisionTreeClassifier(max_depth=3)\n",
    "class_tree.fit(dat_C0.drop(['POSNEG'], axis=1), dat_C0['POSNEG'])"
   ]
  },
  {
   "cell_type": "code",
   "execution_count": 29,
   "metadata": {},
   "outputs": [
    {
     "data": {
      "text/plain": [
       "array([[124, 117],\n",
       "       [ 36, 171]], dtype=int64)"
      ]
     },
     "execution_count": 29,
     "metadata": {},
     "output_type": "execute_result"
    }
   ],
   "source": [
    "from sklearn.metrics import confusion_matrix\n",
    "y_train_pred = class_tree.predict(dat_C0.drop(['POSNEG'], axis=1))\n",
    "confusion_matrix(dat_C0['POSNEG'],y_train_pred)"
   ]
  },
  {
   "cell_type": "code",
   "execution_count": 30,
   "metadata": {},
   "outputs": [
    {
     "data": {
      "text/plain": [
       "0.658"
      ]
     },
     "execution_count": 30,
     "metadata": {},
     "output_type": "execute_result"
    }
   ],
   "source": [
    "from sklearn.metrics import accuracy_score\n",
    "accuracy = accuracy_score(y_true=dat_C0['POSNEG'], y_pred=y_train_pred)\n",
    "accuracy.round(3)"
   ]
  },
  {
   "cell_type": "code",
   "execution_count": 31,
   "metadata": {},
   "outputs": [
    {
     "data": {
      "text/plain": [
       "array([0.775, 0.594])"
      ]
     },
     "execution_count": 31,
     "metadata": {},
     "output_type": "execute_result"
    }
   ],
   "source": [
    "from sklearn.metrics import precision_score\n",
    "precision = precision_score(y_true=dat_C0['POSNEG'], y_pred=y_train_pred, average = None)\n",
    "precision.round(3)"
   ]
  },
  {
   "cell_type": "code",
   "execution_count": 32,
   "metadata": {},
   "outputs": [
    {
     "data": {
      "text/plain": [
       "array([0.515, 0.826])"
      ]
     },
     "execution_count": 32,
     "metadata": {},
     "output_type": "execute_result"
    }
   ],
   "source": [
    "from sklearn.metrics import recall_score\n",
    "recall = recall_score(y_true=dat_C0['POSNEG'], y_pred=y_train_pred, average = None)\n",
    "recall.round(3)"
   ]
  },
  {
   "cell_type": "code",
   "execution_count": 33,
   "metadata": {},
   "outputs": [
    {
     "data": {
      "text/plain": [
       "0.6909090909090908"
      ]
     },
     "execution_count": 33,
     "metadata": {},
     "output_type": "execute_result"
    }
   ],
   "source": [
    "from sklearn.metrics import f1_score\n",
    "f1_score(dat_C0['POSNEG'], y_train_pred)"
   ]
  },
  {
   "cell_type": "code",
   "execution_count": 34,
   "metadata": {},
   "outputs": [
    {
     "data": {
      "text/plain": [
       "DecisionTreeClassifier(max_depth=3)"
      ]
     },
     "execution_count": 34,
     "metadata": {},
     "output_type": "execute_result"
    }
   ],
   "source": [
    "# Decion Tree for cluster 2\n",
    "dat_C1 = dat_C1.dropna()\n",
    "from sklearn.tree import DecisionTreeClassifier\n",
    "class_tree = DecisionTreeClassifier(max_depth=3)\n",
    "class_tree.fit(dat_C1.drop(['POSNEG'], axis=1), dat_C1['POSNEG'])"
   ]
  },
  {
   "cell_type": "code",
   "execution_count": 35,
   "metadata": {},
   "outputs": [
    {
     "data": {
      "text/plain": [
       "array([[169,  24],\n",
       "       [121, 157]], dtype=int64)"
      ]
     },
     "execution_count": 35,
     "metadata": {},
     "output_type": "execute_result"
    }
   ],
   "source": [
    "from sklearn.metrics import confusion_matrix\n",
    "y_train_pred = class_tree.predict(dat_C1.drop(['POSNEG'], axis=1))\n",
    "confusion_matrix(dat_C1['POSNEG'],y_train_pred)"
   ]
  },
  {
   "cell_type": "code",
   "execution_count": 36,
   "metadata": {},
   "outputs": [
    {
     "data": {
      "text/plain": [
       "0.692"
      ]
     },
     "execution_count": 36,
     "metadata": {},
     "output_type": "execute_result"
    }
   ],
   "source": [
    "from sklearn.metrics import accuracy_score\n",
    "accuracy = accuracy_score(y_true=dat_C1['POSNEG'], y_pred=y_train_pred)\n",
    "accuracy.round(3)"
   ]
  },
  {
   "cell_type": "code",
   "execution_count": 37,
   "metadata": {},
   "outputs": [
    {
     "data": {
      "text/plain": [
       "array([0.583, 0.867])"
      ]
     },
     "execution_count": 37,
     "metadata": {},
     "output_type": "execute_result"
    }
   ],
   "source": [
    "from sklearn.metrics import precision_score\n",
    "precision = precision_score(y_true=dat_C1['POSNEG'], y_pred=y_train_pred, average = None)\n",
    "precision.round(3)"
   ]
  },
  {
   "cell_type": "code",
   "execution_count": 38,
   "metadata": {},
   "outputs": [
    {
     "data": {
      "text/plain": [
       "array([0.876, 0.565])"
      ]
     },
     "execution_count": 38,
     "metadata": {},
     "output_type": "execute_result"
    }
   ],
   "source": [
    "from sklearn.metrics import recall_score\n",
    "recall = recall_score(y_true=dat_C1['POSNEG'], y_pred=y_train_pred, average = None)\n",
    "recall.round(3)"
   ]
  },
  {
   "cell_type": "code",
   "execution_count": 39,
   "metadata": {},
   "outputs": [
    {
     "data": {
      "text/plain": [
       "0.6840958605664489"
      ]
     },
     "execution_count": 39,
     "metadata": {},
     "output_type": "execute_result"
    }
   ],
   "source": [
    "from sklearn.metrics import f1_score\n",
    "f1_score(dat_C1['POSNEG'], y_train_pred)"
   ]
  },
  {
   "cell_type": "markdown",
   "metadata": {},
   "source": [
    "## Conclusions\n",
    "The accuracy, precison, recall, and f1 scores for the full dataset are very close to the accuracy, precison, recall, and f1 scores for each of the clusters. This means the clusters are not adding any additional predictive power. "
   ]
  }
 ],
 "metadata": {
  "kernelspec": {
   "display_name": "Python 3",
   "language": "python",
   "name": "python3"
  },
  "language_info": {
   "codemirror_mode": {
    "name": "ipython",
    "version": 3
   },
   "file_extension": ".py",
   "mimetype": "text/x-python",
   "name": "python",
   "nbconvert_exporter": "python",
   "pygments_lexer": "ipython3",
   "version": "3.8.3"
  }
 },
 "nbformat": 4,
 "nbformat_minor": 4
}
